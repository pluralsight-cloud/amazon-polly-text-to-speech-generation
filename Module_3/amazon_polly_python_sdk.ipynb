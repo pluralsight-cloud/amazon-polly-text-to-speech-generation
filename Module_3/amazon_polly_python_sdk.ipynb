{
 "cells": [
  {
   "cell_type": "markdown",
   "id": "1afc9ed2-7b02-4e0c-8ef4-b3e1b407f909",
   "metadata": {},
   "source": [
    "## Install Boto3 to Access AWS APIs\n",
    "\n",
    "Boto3 is the official Python package from AWS that enables developers to programmatically interact with and manage different AWS services, like Polly. \n",
    "\n",
    "To know more about Boto3, please visit this link: https://boto3.amazonaws.com/v1/documentation/api/latest/index.html"
   ]
  },
  {
   "cell_type": "code",
   "execution_count": 1,
   "id": "1e01d79e-3466-4a3c-814f-873b24086a3e",
   "metadata": {},
   "outputs": [],
   "source": [
    "#!pip3 install boto3"
   ]
  },
  {
   "cell_type": "code",
   "execution_count": 2,
   "id": "3b4bed6b-1513-44eb-8dc0-779b4e38c7a7",
   "metadata": {},
   "outputs": [],
   "source": [
    "import os\n",
    "os.environ['AWS_ACCESS_KEY_ID'] = 'YOUR_AWS_ACCESS_KEY'\n",
    "os.environ['AWS_SECRET_ACCESS_KEY'] = 'AWS_SECRET_ACCESS_KEY'\n",
    "os.environ['AWS_DEFAULT_REGION'] = 'YOUR_REGION'"
   ]
  },
  {
   "cell_type": "code",
   "execution_count": null,
   "id": "0aa58488-528f-4a20-8a1e-0a1f4bf00f6d",
   "metadata": {},
   "outputs": [],
   "source": []
  },
  {
   "cell_type": "code",
   "execution_count": null,
   "id": "0c5dafb0-84f6-4892-88ad-796c7817dae7",
   "metadata": {},
   "outputs": [],
   "source": []
  },
  {
   "cell_type": "code",
   "execution_count": null,
   "id": "f04841fb-0cf6-4f0e-9ef7-73c4d1cff784",
   "metadata": {},
   "outputs": [],
   "source": []
  },
  {
   "cell_type": "code",
   "execution_count": null,
   "id": "96089872-8ed5-4f97-b800-97df5b072071",
   "metadata": {},
   "outputs": [],
   "source": []
  },
  {
   "cell_type": "markdown",
   "id": "7d568fe9-a258-43f2-8620-d92fbcd31b69",
   "metadata": {},
   "source": [
    "## Synthesize Speech Using Amazon Polly Python SDK\n",
    "\n",
    "We can use the Synthesize Speech API to convert a text into speech. To know more about the requst and response format, visit this documentation link:\n",
    "https://boto3.amazonaws.com/v1/documentation/api/latest/reference/services/polly/client/synthesize_speech.html#"
   ]
  },
  {
   "cell_type": "code",
   "execution_count": 3,
   "id": "a868e516-1f08-4071-aeca-d500f5342088",
   "metadata": {},
   "outputs": [],
   "source": [
    "# response = client.synthesize_speech(\n",
    "#     Engine='standard'|'neural'|'long-form'|'generative',\n",
    "#     LanguageCode='arb'|'cmn-CN'|'cy-GB'|'da-DK'|'de-DE'|'en-AU'|'en-GB'|'en-GB-WLS'|'en-IN'|'en-US'|'es-ES'|'es-MX'|'es-US'|'fr-CA'|'fr-FR'|'is-IS'|'it-IT'|'ja-JP'|'hi-IN'|'ko-KR'|'nb-NO'|'nl-NL'|'pl-PL'|'pt-BR'|'pt-PT'|'ro-RO'|'ru-RU'|'sv-SE'|'tr-TR'|'en-NZ'|'en-ZA'|'ca-ES'|'de-AT'|'yue-CN'|'ar-AE'|'fi-FI'|'en-IE'|'nl-BE'|'fr-BE'|'cs-CZ'|'de-CH'|'en-SG',\n",
    "#     LexiconNames=[\n",
    "#         'string',\n",
    "#     ],\n",
    "#     OutputFormat='json'|'mp3'|'ogg_opus'|'ogg_vorbis'|'pcm',\n",
    "#     SampleRate='string',\n",
    "#     SpeechMarkTypes=[\n",
    "#         'sentence'|'ssml'|'viseme'|'word',\n",
    "#     ],\n",
    "#     Text='string',\n",
    "#     TextType='ssml'|'text',\n",
    "#     VoiceId='Aditi'|'Amy'|'Astrid'|'Bianca'|'Brian'|'Camila'|'Carla'|'Carmen'|'Celine'|'Chantal'|'Conchita'|'Cristiano'|'Dora'|'Emma'|'Enrique'|'Ewa'|'Filiz'|'Gabrielle'|'Geraint'|'Giorgio'|'Gwyneth'|'Hans'|'Ines'|'Ivy'|'Jacek'|'Jan'|'Joanna'|'Joey'|'Justin'|'Karl'|'Kendra'|'Kevin'|'Kimberly'|'Lea'|'Liv'|'Lotte'|'Lucia'|'Lupe'|'Mads'|'Maja'|'Marlene'|'Mathieu'|'Matthew'|'Maxim'|'Mia'|'Miguel'|'Mizuki'|'Naja'|'Nicole'|'Olivia'|'Penelope'|'Raveena'|'Ricardo'|'Ruben'|'Russell'|'Salli'|'Seoyeon'|'Takumi'|'Tatyana'|'Vicki'|'Vitoria'|'Zeina'|'Zhiyu'|'Aria'|'Ayanda'|'Arlet'|'Hannah'|'Arthur'|'Daniel'|'Liam'|'Pedro'|'Kajal'|'Hiujin'|'Laura'|'Elin'|'Ida'|'Suvi'|'Ola'|'Hala'|'Andres'|'Sergio'|'Remi'|'Adriano'|'Thiago'|'Ruth'|'Stephen'|'Kazuha'|'Tomoko'|'Niamh'|'Sofie'|'Lisa'|'Isabelle'|'Zayd'|'Danielle'|'Gregory'|'Burcu'|'Jitka'|'Sabrina'|'Jasmine'|'Jihye'\n",
    "# )"
   ]
  },
  {
   "cell_type": "code",
   "execution_count": null,
   "id": "9bf3076a-1fc6-4931-9259-1be4e6ef8de9",
   "metadata": {},
   "outputs": [],
   "source": []
  },
  {
   "cell_type": "code",
   "execution_count": null,
   "id": "4b800f29-6ceb-4cdf-8cf8-8689a66cc89b",
   "metadata": {},
   "outputs": [],
   "source": []
  },
  {
   "cell_type": "code",
   "execution_count": null,
   "id": "fd4edcae-bc3f-41be-a042-1207a949f4cd",
   "metadata": {},
   "outputs": [],
   "source": []
  },
  {
   "cell_type": "code",
   "execution_count": null,
   "id": "1da5a91e-98cd-4523-ae43-6252e0394406",
   "metadata": {},
   "outputs": [],
   "source": []
  },
  {
   "cell_type": "code",
   "execution_count": 4,
   "id": "b5e6f821-b356-479b-805e-0d69df8dabb0",
   "metadata": {},
   "outputs": [],
   "source": [
    "import boto3\n",
    "polly_client = boto3.client('polly')"
   ]
  },
  {
   "cell_type": "code",
   "execution_count": 5,
   "id": "ddf5d0a0-f0aa-4394-acce-4d75c977146c",
   "metadata": {},
   "outputs": [],
   "source": [
    "input_text = \"\"\"\n",
    "    Amazon Polly is a cloud service that converts text into lifelike speech. \n",
    "    You can use Amazon Polly to develop applications that increase engagement \n",
    "    and accessibility.\n",
    "\"\"\"\n",
    "\n",
    "response = polly_client.synthesize_speech(\n",
    "    Engine='generative',\n",
    "    LanguageCode='en-US',\n",
    "    OutputFormat='mp3',\n",
    "    Text=input_text,\n",
    "    TextType='text',\n",
    "    VoiceId='Joanna'\n",
    ")"
   ]
  },
  {
   "cell_type": "code",
   "execution_count": null,
   "id": "6242d0f2-5470-430c-8bc5-8551933d76fa",
   "metadata": {},
   "outputs": [],
   "source": []
  },
  {
   "cell_type": "code",
   "execution_count": null,
   "id": "e365a1ab-908b-448c-9ecb-15103b24cf39",
   "metadata": {},
   "outputs": [],
   "source": []
  },
  {
   "cell_type": "code",
   "execution_count": null,
   "id": "1ff123df-45ea-439d-9870-fbfd9014116b",
   "metadata": {},
   "outputs": [],
   "source": []
  },
  {
   "cell_type": "code",
   "execution_count": null,
   "id": "4f3fbafc-d08d-4eb2-b84c-b23581f222db",
   "metadata": {},
   "outputs": [],
   "source": []
  },
  {
   "cell_type": "code",
   "execution_count": 6,
   "id": "5f625e91-1ef7-4fed-bdb5-c7077fda7f6d",
   "metadata": {},
   "outputs": [],
   "source": [
    "text_with_ssml = \"\"\"\n",
    "<speak>\n",
    "    Amazon Polly is a cloud service that converts text into lifelike speech. <break time=\"2s\"/> \n",
    "    It is developed using advanced <sub alias=\"natural language processing\"> NLP </sub> techniques.\n",
    "    \n",
    "    <amazon:domain name=\"news\">\n",
    "    You can use Amazon Polly to develop applications that increase engagement and accessibility.\n",
    "    Amazon Polly supports multiple languages and includes a variety of lifelike voices.\n",
    "    </amazon:domain>\n",
    "</speak>\n",
    "\"\"\"\n",
    "\n",
    "ssml_response = polly_client.synthesize_speech(\n",
    "    Engine='neural',\n",
    "    LanguageCode='en-US',\n",
    "    OutputFormat='mp3',\n",
    "    Text=text_with_ssml,\n",
    "    TextType='ssml',\n",
    "    VoiceId='Joanna'\n",
    ")"
   ]
  },
  {
   "cell_type": "code",
   "execution_count": null,
   "id": "97a7ace0-303f-4a1b-b03d-9757427d42dc",
   "metadata": {},
   "outputs": [],
   "source": []
  },
  {
   "cell_type": "code",
   "execution_count": null,
   "id": "1e1c50f9-10eb-45c5-9ebd-40e54a8a68ad",
   "metadata": {},
   "outputs": [],
   "source": []
  },
  {
   "cell_type": "code",
   "execution_count": null,
   "id": "702cb61c-7ce2-446f-8b69-eefb16991a7e",
   "metadata": {},
   "outputs": [],
   "source": []
  },
  {
   "cell_type": "code",
   "execution_count": null,
   "id": "cbb50918-12f2-4889-8cc6-32e2ef335384",
   "metadata": {},
   "outputs": [],
   "source": []
  },
  {
   "cell_type": "markdown",
   "id": "fe122763-1a67-4eb6-837c-456342f13704",
   "metadata": {},
   "source": [
    "## Analyse the Output of the Speech Synthesis Task"
   ]
  },
  {
   "cell_type": "code",
   "execution_count": 7,
   "id": "b6c8e52d-e07d-4e47-bd61-c7a5c6ba7a06",
   "metadata": {},
   "outputs": [
    {
     "data": {
      "text/plain": [
       "{'ResponseMetadata': {'RequestId': 'ac636da4-a389-4a6f-a6cb-e9877cc03848',\n",
       "  'HTTPStatusCode': 200,\n",
       "  'HTTPHeaders': {'x-amzn-requestid': 'ac636da4-a389-4a6f-a6cb-e9877cc03848',\n",
       "   'x-amzn-requestcharacters': '165',\n",
       "   'date': 'Thu, 04 Sep 2025 13:03:18 GMT',\n",
       "   'content-type': 'audio/mpeg',\n",
       "   'transfer-encoding': 'chunked',\n",
       "   'connection': 'keep-alive'},\n",
       "  'RetryAttempts': 0},\n",
       " 'ContentType': 'audio/mpeg',\n",
       " 'RequestCharacters': 165,\n",
       " 'AudioStream': <botocore.response.StreamingBody at 0x10616c7c0>}"
      ]
     },
     "execution_count": 7,
     "metadata": {},
     "output_type": "execute_result"
    }
   ],
   "source": [
    "response"
   ]
  },
  {
   "cell_type": "code",
   "execution_count": 8,
   "id": "3936c4d3-5931-4123-832a-3f17780c2d0a",
   "metadata": {},
   "outputs": [
    {
     "data": {
      "text/plain": [
       "200"
      ]
     },
     "execution_count": 8,
     "metadata": {},
     "output_type": "execute_result"
    }
   ],
   "source": [
    "http_status_code = response['ResponseMetadata']['HTTPStatusCode']\n",
    "http_status_code"
   ]
  },
  {
   "cell_type": "code",
   "execution_count": 9,
   "id": "c2c29965-fcaa-45ae-bb78-9bb109060468",
   "metadata": {},
   "outputs": [],
   "source": [
    "with open('speech_input_text.mp3', 'wb') as file:\n",
    "    file.write(response['AudioStream'].read())"
   ]
  },
  {
   "cell_type": "code",
   "execution_count": null,
   "id": "a5aad29c-54c6-4790-8b65-f9225ca42593",
   "metadata": {},
   "outputs": [],
   "source": []
  },
  {
   "cell_type": "code",
   "execution_count": null,
   "id": "fe33808c-80e8-43ce-9f90-2df5b6241d51",
   "metadata": {},
   "outputs": [],
   "source": []
  },
  {
   "cell_type": "code",
   "execution_count": null,
   "id": "aa59427d-d587-419c-9be5-a52a50cd3d8b",
   "metadata": {},
   "outputs": [],
   "source": []
  },
  {
   "cell_type": "code",
   "execution_count": null,
   "id": "e2073fc4-2067-468c-a18b-daa1669c51ba",
   "metadata": {},
   "outputs": [],
   "source": []
  },
  {
   "cell_type": "code",
   "execution_count": 10,
   "id": "b56b008a-dc57-48bf-a841-b28ac0c30dbd",
   "metadata": {},
   "outputs": [
    {
     "data": {
      "text/plain": [
       "{'ResponseMetadata': {'RequestId': 'd77b6351-69d2-49e0-9003-dc1b55626a35',\n",
       "  'HTTPStatusCode': 200,\n",
       "  'HTTPHeaders': {'x-amzn-requestid': 'd77b6351-69d2-49e0-9003-dc1b55626a35',\n",
       "   'x-amzn-requestcharacters': '320',\n",
       "   'date': 'Thu, 04 Sep 2025 13:03:19 GMT',\n",
       "   'content-type': 'audio/mpeg',\n",
       "   'transfer-encoding': 'chunked',\n",
       "   'connection': 'keep-alive'},\n",
       "  'RetryAttempts': 0},\n",
       " 'ContentType': 'audio/mpeg',\n",
       " 'RequestCharacters': 320,\n",
       " 'AudioStream': <botocore.response.StreamingBody at 0x10616d510>}"
      ]
     },
     "execution_count": 10,
     "metadata": {},
     "output_type": "execute_result"
    }
   ],
   "source": [
    "ssml_response"
   ]
  },
  {
   "cell_type": "code",
   "execution_count": 11,
   "id": "e11f14c5-bb38-4482-801a-351c01a189bb",
   "metadata": {},
   "outputs": [],
   "source": [
    "with open('speech_text_with_ssml.mp3', 'wb') as file:\n",
    "    file.write(response['AudioStream'].read())"
   ]
  },
  {
   "cell_type": "code",
   "execution_count": null,
   "id": "bb486651-2da2-4acc-aa36-3e233d779341",
   "metadata": {},
   "outputs": [],
   "source": []
  },
  {
   "cell_type": "code",
   "execution_count": null,
   "id": "f099a697-6cbd-4eb6-a240-07187a919cb3",
   "metadata": {},
   "outputs": [],
   "source": []
  },
  {
   "cell_type": "code",
   "execution_count": null,
   "id": "92df3647-3677-41ea-9895-0bdf889b5932",
   "metadata": {},
   "outputs": [],
   "source": []
  },
  {
   "cell_type": "code",
   "execution_count": null,
   "id": "eb53716e-13ed-4232-b535-eeb18a23e1f5",
   "metadata": {},
   "outputs": [],
   "source": []
  },
  {
   "cell_type": "markdown",
   "id": "ad5afe2c-62d3-47a5-8b9a-fcb37f3c2768",
   "metadata": {},
   "source": [
    "## Stream Audio Output of the Speech Synthesis Task"
   ]
  },
  {
   "cell_type": "code",
   "execution_count": 12,
   "id": "0efad42a-9a14-41c4-8fcd-27211976bf34",
   "metadata": {},
   "outputs": [],
   "source": [
    "#!pip3 install pygame"
   ]
  },
  {
   "cell_type": "code",
   "execution_count": 13,
   "id": "268f67f8-105c-4296-969a-e7714d7607e1",
   "metadata": {},
   "outputs": [
    {
     "name": "stdout",
     "output_type": "stream",
     "text": [
      "pygame 2.6.1 (SDL 2.28.4, Python 3.13.7)\n",
      "Hello from the pygame community. https://www.pygame.org/contribute.html\n"
     ]
    },
    {
     "name": "stderr",
     "output_type": "stream",
     "text": [
      "/Library/Frameworks/Python.framework/Versions/3.13/lib/python3.13/site-packages/pygame/pkgdata.py:25: UserWarning: pkg_resources is deprecated as an API. See https://setuptools.pypa.io/en/latest/pkg_resources.html. The pkg_resources package is slated for removal as early as 2025-11-30. Refrain from using this package or pin to Setuptools<81.\n",
      "  from pkg_resources import resource_stream, resource_exists\n"
     ]
    }
   ],
   "source": [
    "from pygame import mixer\n",
    "\n",
    "mixer.init()\n",
    "mixer.music.load('speech_input_text.mp3')\n",
    "mixer.music.play()"
   ]
  },
  {
   "cell_type": "code",
   "execution_count": null,
   "id": "0f4dd261-0d93-4230-861b-3e8238ec4119",
   "metadata": {},
   "outputs": [],
   "source": []
  },
  {
   "cell_type": "code",
   "execution_count": null,
   "id": "f86b5feb-4e9b-43a1-a6dc-53e47966651b",
   "metadata": {},
   "outputs": [],
   "source": []
  },
  {
   "cell_type": "code",
   "execution_count": null,
   "id": "c7f574e5-0d78-4e7b-98f9-66d7c1be2cfe",
   "metadata": {},
   "outputs": [],
   "source": []
  },
  {
   "cell_type": "code",
   "execution_count": null,
   "id": "52906461-16d2-44b1-b5c6-a212432425f5",
   "metadata": {},
   "outputs": [],
   "source": []
  },
  {
   "cell_type": "markdown",
   "id": "b0b720ee-4402-41bc-bca5-2ddb8646364f",
   "metadata": {},
   "source": [
    "## Error handling with retry logic\n",
    "\n",
    "We can configure different settings regarding how the API will attempt to recover from failures.\n",
    "\n",
    "Details about different retry settings can be found in this documentation link:\n",
    "https://docs.aws.amazon.com/sdkref/latest/guide/feature-retry-behavior.html"
   ]
  },
  {
   "cell_type": "code",
   "execution_count": 14,
   "id": "32cf7263-3773-491e-9508-1442d903ed61",
   "metadata": {},
   "outputs": [],
   "source": [
    "polly_client = boto3.client(\n",
    "    'polly',\n",
    "    config=boto3.session.Config(\n",
    "        retries={\n",
    "            'max_attempts': 3,\n",
    "            'mode': 'standard'\n",
    "        }\n",
    "    )\n",
    ")"
   ]
  },
  {
   "cell_type": "code",
   "execution_count": null,
   "id": "253ec331-717d-449d-8b5d-fd1cc482f859",
   "metadata": {},
   "outputs": [],
   "source": []
  },
  {
   "cell_type": "code",
   "execution_count": null,
   "id": "de4be8dd-c31b-4fd9-915b-a5a40c964473",
   "metadata": {},
   "outputs": [],
   "source": []
  },
  {
   "cell_type": "code",
   "execution_count": null,
   "id": "f07aed9a-440a-4aa3-90dc-310d2fb915b6",
   "metadata": {},
   "outputs": [],
   "source": []
  },
  {
   "cell_type": "code",
   "execution_count": null,
   "id": "b5f4b59a-447c-4a0a-bc2d-904cd33625f5",
   "metadata": {},
   "outputs": [],
   "source": []
  },
  {
   "cell_type": "code",
   "execution_count": 15,
   "id": "ac53c59f-b994-4795-abc3-4d0d116b3b53",
   "metadata": {},
   "outputs": [],
   "source": [
    "input_text = \"\"\"\n",
    "    Amazon Polly is a cloud service that converts text into lifelike speech. \n",
    "    You can use Amazon Polly to develop applications that increase engagement and accessibility.\n",
    "\"\"\"\n",
    "\n",
    "try:\n",
    "    response = polly_client.synthesize_speech(\n",
    "        Engine='generative',\n",
    "        LanguageCode='en-US',\n",
    "        OutputFormat='mp3',\n",
    "        Text=input_text,\n",
    "        TextType='text',\n",
    "        VoiceId='Joanna'\n",
    "    )\n",
    "except Exception as e:\n",
    "    print(f\"Error synthesizing speech: {e}\")"
   ]
  },
  {
   "cell_type": "code",
   "execution_count": 16,
   "id": "9994cf45-13bd-4f23-a863-d5ab81d3c35d",
   "metadata": {},
   "outputs": [],
   "source": [
    "with open('speech_input_text.mp3', 'wb') as file:\n",
    "    file.write(response['AudioStream'].read())"
   ]
  },
  {
   "cell_type": "code",
   "execution_count": null,
   "id": "b3ede851-b01a-4013-bbe7-f5496e0ea431",
   "metadata": {},
   "outputs": [],
   "source": []
  },
  {
   "cell_type": "code",
   "execution_count": null,
   "id": "a6ec68b5-fe75-432a-afc7-c907e26104d6",
   "metadata": {},
   "outputs": [],
   "source": []
  },
  {
   "cell_type": "code",
   "execution_count": null,
   "id": "95f67485-ea19-4dae-be63-212069c09375",
   "metadata": {},
   "outputs": [],
   "source": []
  }
 ],
 "metadata": {
  "kernelspec": {
   "display_name": "Python 3 (ipykernel)",
   "language": "python",
   "name": "python3"
  },
  "language_info": {
   "codemirror_mode": {
    "name": "ipython",
    "version": 3
   },
   "file_extension": ".py",
   "mimetype": "text/x-python",
   "name": "python",
   "nbconvert_exporter": "python",
   "pygments_lexer": "ipython3",
   "version": "3.13.7"
  }
 },
 "nbformat": 4,
 "nbformat_minor": 5
}
