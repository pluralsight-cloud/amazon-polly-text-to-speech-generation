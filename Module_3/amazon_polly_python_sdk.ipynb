{
 "cells": [
  {
   "cell_type": "markdown",
   "id": "1afc9ed2-7b02-4e0c-8ef4-b3e1b407f909",
   "metadata": {},
   "source": [
    "## Install Boto3 to Access AWS APIs\n",
    "\n",
    "Boto3 is the official Python package from AWS that enables developers to programmatically interact with and manage different AWS services, like Polly. \n",
    "\n",
    "To know more about Boto3, please visit this link: https://boto3.amazonaws.com/v1/documentation/api/latest/index.html"
   ]
  },
  {
   "cell_type": "code",
   "execution_count": null,
   "id": "1e01d79e-3466-4a3c-814f-873b24086a3e",
   "metadata": {},
   "outputs": [],
   "source": [
    "#!pip3 install boto3"
   ]
  },
  {
   "cell_type": "markdown",
   "id": "d324af06-8985-44f0-b46e-6012d53058d7",
   "metadata": {},
   "source": [
    "To know more about how to create and manage access keys, visit this link:\n",
    "https://docs.aws.amazon.com/IAM/latest/UserGuide/id_root-user_manage_add-key.html\n",
    "\n",
    "To know more about how to configure environment variables, visit this link: https://docs.aws.amazon.com/cli/v1/userguide/cli-configure-envvars.html"
   ]
  },
  {
   "cell_type": "code",
   "execution_count": null,
   "id": "3b4bed6b-1513-44eb-8dc0-779b4e38c7a7",
   "metadata": {},
   "outputs": [],
   "source": [
    "import os\n",
    "os.environ['AWS_ACCESS_KEY_ID'] = 'YOUR_AWS_ACCESS_KEY'\n",
    "os.environ['AWS_SECRET_ACCESS_KEY'] = 'AWS_SECRET_ACCESS_KEY'\n",
    "os.environ['AWS_DEFAULT_REGION'] = 'YOUR_REGION'"
   ]
  },
  {
   "cell_type": "code",
   "execution_count": null,
   "id": "0aa58488-528f-4a20-8a1e-0a1f4bf00f6d",
   "metadata": {},
   "outputs": [],
   "source": []
  },
  {
   "cell_type": "code",
   "execution_count": null,
   "id": "0aaf7206-9c0d-4968-9f05-4f97a5e4a020",
   "metadata": {},
   "outputs": [],
   "source": []
  },
  {
   "cell_type": "code",
   "execution_count": null,
   "id": "0c5dafb0-84f6-4892-88ad-796c7817dae7",
   "metadata": {},
   "outputs": [],
   "source": []
  },
  {
   "cell_type": "code",
   "execution_count": null,
   "id": "778b14aa-6dd2-4c35-95f4-cde12b7b4ad0",
   "metadata": {},
   "outputs": [],
   "source": []
  },
  {
   "cell_type": "markdown",
   "id": "7d568fe9-a258-43f2-8620-d92fbcd31b69",
   "metadata": {},
   "source": [
    "## Synthesize Speech Using Amazon Polly Python SDK\n",
    "\n",
    "We can use the Synthesize Speech API to convert a text into speech. To know more about the requst and response format, visit this documentation link:\n",
    "https://boto3.amazonaws.com/v1/documentation/api/latest/reference/services/polly/client/synthesize_speech.html#"
   ]
  },
  {
   "cell_type": "code",
   "execution_count": null,
   "id": "a868e516-1f08-4071-aeca-d500f5342088",
   "metadata": {},
   "outputs": [],
   "source": [
    "# response = client.synthesize_speech(\n",
    "#     Engine='standard'|'neural'|'long-form'|'generative',\n",
    "#     LanguageCode='arb'|'cmn-CN'|'cy-GB'|'da-DK'|'de-DE'|'en-AU'|'en-GB'|'en-GB-WLS'|'en-IN'|'en-US'|'es-ES'|'es-MX'|'es-US'|'fr-CA'|'fr-FR'|'is-IS'|'it-IT'|'ja-JP'|'hi-IN'|'ko-KR'|'nb-NO'|'nl-NL'|'pl-PL'|'pt-BR'|'pt-PT'|'ro-RO'|'ru-RU'|'sv-SE'|'tr-TR'|'en-NZ'|'en-ZA'|'ca-ES'|'de-AT'|'yue-CN'|'ar-AE'|'fi-FI'|'en-IE'|'nl-BE'|'fr-BE'|'cs-CZ'|'de-CH'|'en-SG',\n",
    "#     VoiceId='Aditi'|'Amy'|'Astrid'|'Bianca'|'Brian'|'Camila'|'Carla'|'Carmen'|'Celine'|'Chantal'|'Conchita'|'Cristiano'|'Dora'|'Emma'|'Enrique'|'Ewa'|'Filiz'|'Gabrielle'|'Geraint'|'Giorgio'|'Gwyneth'|'Hans'|'Ines'|'Ivy'|'Jacek'|'Jan'|'Joanna'|'Joey'|'Justin'|'Karl'|'Kendra'|'Kevin'|'Kimberly'|'Lea'|'Liv'|'Lotte'|'Lucia'|'Lupe'|'Mads'|'Maja'|'Marlene'|'Mathieu'|'Matthew'|'Maxim'|'Mia'|'Miguel'|'Mizuki'|'Naja'|'Nicole'|'Olivia'|'Penelope'|'Raveena'|'Ricardo'|'Ruben'|'Russell'|'Salli'|'Seoyeon'|'Takumi'|'Tatyana'|'Vicki'|'Vitoria'|'Zeina'|'Zhiyu'|'Aria'|'Ayanda'|'Arlet'|'Hannah'|'Arthur'|'Daniel'|'Liam'|'Pedro'|'Kajal'|'Hiujin'|'Laura'|'Elin'|'Ida'|'Suvi'|'Ola'|'Hala'|'Andres'|'Sergio'|'Remi'|'Adriano'|'Thiago'|'Ruth'|'Stephen'|'Kazuha'|'Tomoko'|'Niamh'|'Sofie'|'Lisa'|'Isabelle'|'Zayd'|'Danielle'|'Gregory'|'Burcu'|'Jitka'|'Sabrina'|'Jasmine'|'Jihye',\n",
    "#     LexiconNames=[\n",
    "#         'string',\n",
    "#     ],\n",
    "#     OutputFormat='json'|'mp3'|'ogg_opus'|'ogg_vorbis'|'pcm',\n",
    "#     SpeechMarkTypes=[\n",
    "#         'sentence'|'ssml'|'viseme'|'word',\n",
    "#     ],\n",
    "#     TextType='ssml'|'text',\n",
    "#     Text='string'\n",
    "# )"
   ]
  },
  {
   "cell_type": "code",
   "execution_count": null,
   "id": "9bf3076a-1fc6-4931-9259-1be4e6ef8de9",
   "metadata": {},
   "outputs": [],
   "source": []
  },
  {
   "cell_type": "code",
   "execution_count": null,
   "id": "4b800f29-6ceb-4cdf-8cf8-8689a66cc89b",
   "metadata": {},
   "outputs": [],
   "source": []
  },
  {
   "cell_type": "code",
   "execution_count": null,
   "id": "fd4edcae-bc3f-41be-a042-1207a949f4cd",
   "metadata": {},
   "outputs": [],
   "source": []
  },
  {
   "cell_type": "code",
   "execution_count": null,
   "id": "1da5a91e-98cd-4523-ae43-6252e0394406",
   "metadata": {},
   "outputs": [],
   "source": []
  },
  {
   "cell_type": "code",
   "execution_count": 2,
   "id": "b5e6f821-b356-479b-805e-0d69df8dabb0",
   "metadata": {},
   "outputs": [],
   "source": [
    "import boto3\n",
    "polly_client = boto3.client('polly')"
   ]
  },
  {
   "cell_type": "code",
   "execution_count": 3,
   "id": "13f0c208-b016-4679-8fc0-20c151fd5e59",
   "metadata": {},
   "outputs": [],
   "source": [
    "input_text = \"\"\"\n",
    "    Amazon Polly is a cloud service that converts text into lifelike speech. \n",
    "    You can use Amazon Polly to develop applications that increase engagement \n",
    "    and accessibility.\n",
    "\"\"\""
   ]
  },
  {
   "cell_type": "code",
   "execution_count": 4,
   "id": "ddf5d0a0-f0aa-4394-acce-4d75c977146c",
   "metadata": {},
   "outputs": [],
   "source": [
    "response = polly_client.synthesize_speech(\n",
    "    Engine='generative',\n",
    "    LanguageCode='en-US',\n",
    "    VoiceId='Joanna',\n",
    "    OutputFormat='mp3',\n",
    "    TextType='text',\n",
    "    Text=input_text\n",
    ")"
   ]
  },
  {
   "cell_type": "code",
   "execution_count": null,
   "id": "6242d0f2-5470-430c-8bc5-8551933d76fa",
   "metadata": {},
   "outputs": [],
   "source": []
  },
  {
   "cell_type": "code",
   "execution_count": null,
   "id": "e365a1ab-908b-448c-9ecb-15103b24cf39",
   "metadata": {},
   "outputs": [],
   "source": []
  },
  {
   "cell_type": "code",
   "execution_count": null,
   "id": "1ff123df-45ea-439d-9870-fbfd9014116b",
   "metadata": {},
   "outputs": [],
   "source": []
  },
  {
   "cell_type": "code",
   "execution_count": null,
   "id": "4f3fbafc-d08d-4eb2-b84c-b23581f222db",
   "metadata": {},
   "outputs": [],
   "source": []
  },
  {
   "cell_type": "code",
   "execution_count": 5,
   "id": "5f625e91-1ef7-4fed-bdb5-c7077fda7f6d",
   "metadata": {},
   "outputs": [],
   "source": [
    "text_with_ssml = \"\"\"\n",
    "<speak>\n",
    "    Amazon Polly is a cloud service that converts text into lifelike speech. <break time=\"2s\"/> \n",
    "    It is developed using advanced <sub alias=\"natural language processing\"> NLP </sub> techniques.\n",
    "    \n",
    "    <amazon:domain name=\"news\">\n",
    "    You can use Amazon Polly to develop applications that increase engagement and accessibility.\n",
    "    Amazon Polly supports multiple languages and includes a variety of lifelike voices.\n",
    "    </amazon:domain>\n",
    "</speak>\n",
    "\"\"\"\n",
    "\n",
    "ssml_response = polly_client.synthesize_speech(\n",
    "    Engine='neural',\n",
    "    LanguageCode='en-US',\n",
    "    VoiceId='Joanna',\n",
    "    OutputFormat='mp3',\n",
    "    TextType='ssml',\n",
    "    Text=text_with_ssml,\n",
    ")"
   ]
  },
  {
   "cell_type": "code",
   "execution_count": null,
   "id": "97a7ace0-303f-4a1b-b03d-9757427d42dc",
   "metadata": {},
   "outputs": [],
   "source": []
  },
  {
   "cell_type": "code",
   "execution_count": null,
   "id": "1e1c50f9-10eb-45c5-9ebd-40e54a8a68ad",
   "metadata": {},
   "outputs": [],
   "source": []
  },
  {
   "cell_type": "code",
   "execution_count": null,
   "id": "702cb61c-7ce2-446f-8b69-eefb16991a7e",
   "metadata": {},
   "outputs": [],
   "source": []
  },
  {
   "cell_type": "code",
   "execution_count": null,
   "id": "cbb50918-12f2-4889-8cc6-32e2ef335384",
   "metadata": {},
   "outputs": [],
   "source": []
  },
  {
   "cell_type": "markdown",
   "id": "fe122763-1a67-4eb6-837c-456342f13704",
   "metadata": {},
   "source": [
    "## Analyse the Output of the Speech Synthesis Task"
   ]
  },
  {
   "cell_type": "code",
   "execution_count": 6,
   "id": "b6c8e52d-e07d-4e47-bd61-c7a5c6ba7a06",
   "metadata": {},
   "outputs": [
    {
     "data": {
      "text/plain": [
       "{'ResponseMetadata': {'RequestId': '2084bff5-e830-4dd6-a1c4-80e0d9dce64d',\n",
       "  'HTTPStatusCode': 200,\n",
       "  'HTTPHeaders': {'x-amzn-requestid': '2084bff5-e830-4dd6-a1c4-80e0d9dce64d',\n",
       "   'x-amzn-requestcharacters': '165',\n",
       "   'date': 'Sat, 06 Sep 2025 11:46:16 GMT',\n",
       "   'content-type': 'audio/mpeg',\n",
       "   'transfer-encoding': 'chunked',\n",
       "   'connection': 'keep-alive'},\n",
       "  'RetryAttempts': 0},\n",
       " 'ContentType': 'audio/mpeg',\n",
       " 'RequestCharacters': 165,\n",
       " 'AudioStream': <botocore.response.StreamingBody at 0x105c891b0>}"
      ]
     },
     "execution_count": 6,
     "metadata": {},
     "output_type": "execute_result"
    }
   ],
   "source": [
    "response"
   ]
  },
  {
   "cell_type": "code",
   "execution_count": null,
   "id": "f63915a6-1e2b-4d43-9c8a-b13bc9f5c7a5",
   "metadata": {},
   "outputs": [],
   "source": []
  },
  {
   "cell_type": "code",
   "execution_count": null,
   "id": "a6d16e79-285a-4b68-a95d-03b431c8f572",
   "metadata": {},
   "outputs": [],
   "source": []
  },
  {
   "cell_type": "code",
   "execution_count": null,
   "id": "25bbdc78-cc19-4d0d-b8ea-50ab9a593457",
   "metadata": {},
   "outputs": [],
   "source": []
  },
  {
   "cell_type": "code",
   "execution_count": null,
   "id": "2db2b87e-a1bc-4f94-a3b5-d5a413454e19",
   "metadata": {},
   "outputs": [],
   "source": []
  },
  {
   "cell_type": "code",
   "execution_count": 7,
   "id": "1337692f-4dba-4ed0-a1af-2dc4174def98",
   "metadata": {},
   "outputs": [],
   "source": [
    "nchars = response['RequestCharacters']"
   ]
  },
  {
   "cell_type": "code",
   "execution_count": 8,
   "id": "a412f3a7-3104-4366-a51c-0a210c766f93",
   "metadata": {},
   "outputs": [
    {
     "name": "stdout",
     "output_type": "stream",
     "text": [
      "No of characters converted:  165\n"
     ]
    }
   ],
   "source": [
    "print(\"No of characters converted: \", nchars)"
   ]
  },
  {
   "cell_type": "code",
   "execution_count": 9,
   "id": "ef70fa67-e32a-46a7-adf3-ede2359eac27",
   "metadata": {},
   "outputs": [
    {
     "data": {
      "text/plain": [
       "200"
      ]
     },
     "execution_count": 9,
     "metadata": {},
     "output_type": "execute_result"
    }
   ],
   "source": [
    "http_status_code = response['ResponseMetadata']['HTTPStatusCode']\n",
    "http_status_code"
   ]
  },
  {
   "cell_type": "code",
   "execution_count": 10,
   "id": "a5aad29c-54c6-4790-8b65-f9225ca42593",
   "metadata": {},
   "outputs": [],
   "source": [
    "with open('speech_input_text.mp3', 'wb') as file:\n",
    "    file.write(response['AudioStream'].read())"
   ]
  },
  {
   "cell_type": "code",
   "execution_count": null,
   "id": "fe33808c-80e8-43ce-9f90-2df5b6241d51",
   "metadata": {},
   "outputs": [],
   "source": []
  },
  {
   "cell_type": "code",
   "execution_count": null,
   "id": "95e76c6e-5e8b-41d7-ad7e-0b44761955a2",
   "metadata": {},
   "outputs": [],
   "source": []
  },
  {
   "cell_type": "code",
   "execution_count": null,
   "id": "0e21618d-d4e2-466a-ab99-dbbda3692aec",
   "metadata": {},
   "outputs": [],
   "source": []
  },
  {
   "cell_type": "code",
   "execution_count": null,
   "id": "f39ff030-cee0-4714-8041-ee8c1ab893a1",
   "metadata": {},
   "outputs": [],
   "source": []
  },
  {
   "cell_type": "code",
   "execution_count": 11,
   "id": "aa59427d-d587-419c-9be5-a52a50cd3d8b",
   "metadata": {},
   "outputs": [
    {
     "data": {
      "text/plain": [
       "{'ResponseMetadata': {'RequestId': '6a9b410f-b332-43d9-ad08-b656345c5247',\n",
       "  'HTTPStatusCode': 200,\n",
       "  'HTTPHeaders': {'x-amzn-requestid': '6a9b410f-b332-43d9-ad08-b656345c5247',\n",
       "   'x-amzn-requestcharacters': '320',\n",
       "   'date': 'Sat, 06 Sep 2025 11:49:39 GMT',\n",
       "   'content-type': 'audio/mpeg',\n",
       "   'transfer-encoding': 'chunked',\n",
       "   'connection': 'keep-alive'},\n",
       "  'RetryAttempts': 0},\n",
       " 'ContentType': 'audio/mpeg',\n",
       " 'RequestCharacters': 320,\n",
       " 'AudioStream': <botocore.response.StreamingBody at 0x1066cd330>}"
      ]
     },
     "execution_count": 11,
     "metadata": {},
     "output_type": "execute_result"
    }
   ],
   "source": [
    "ssml_response"
   ]
  },
  {
   "cell_type": "code",
   "execution_count": 12,
   "id": "8663256a-402a-4dfe-b871-ff7786172984",
   "metadata": {},
   "outputs": [],
   "source": [
    "with open('speech_text_with_ssml.mp3', 'wb') as file:\n",
    "    file.write(response['AudioStream'].read())"
   ]
  },
  {
   "cell_type": "code",
   "execution_count": null,
   "id": "3283676a-9081-42f1-ad50-a19044f7dfdf",
   "metadata": {},
   "outputs": [],
   "source": []
  },
  {
   "cell_type": "code",
   "execution_count": null,
   "id": "49bd6e84-7528-4240-b891-c86fc54270f7",
   "metadata": {},
   "outputs": [],
   "source": []
  },
  {
   "cell_type": "code",
   "execution_count": null,
   "id": "028b5b10-53dd-47d2-aae0-7d678552288d",
   "metadata": {},
   "outputs": [],
   "source": []
  },
  {
   "cell_type": "code",
   "execution_count": null,
   "id": "eb53716e-13ed-4232-b535-eeb18a23e1f5",
   "metadata": {},
   "outputs": [],
   "source": []
  },
  {
   "cell_type": "markdown",
   "id": "ad5afe2c-62d3-47a5-8b9a-fcb37f3c2768",
   "metadata": {},
   "source": [
    "## Stream Audio Output of the Speech Synthesis Task"
   ]
  },
  {
   "cell_type": "code",
   "execution_count": null,
   "id": "0efad42a-9a14-41c4-8fcd-27211976bf34",
   "metadata": {},
   "outputs": [],
   "source": [
    "#!pip3 install pygame"
   ]
  },
  {
   "cell_type": "code",
   "execution_count": 15,
   "id": "268f67f8-105c-4296-969a-e7714d7607e1",
   "metadata": {},
   "outputs": [],
   "source": [
    "from pygame import mixer\n",
    "\n",
    "mixer.init()\n",
    "mixer.music.load('speech_input_text.mp3')\n",
    "mixer.music.play()"
   ]
  },
  {
   "cell_type": "code",
   "execution_count": null,
   "id": "0f4dd261-0d93-4230-861b-3e8238ec4119",
   "metadata": {},
   "outputs": [],
   "source": []
  },
  {
   "cell_type": "code",
   "execution_count": null,
   "id": "f86b5feb-4e9b-43a1-a6dc-53e47966651b",
   "metadata": {},
   "outputs": [],
   "source": []
  },
  {
   "cell_type": "code",
   "execution_count": null,
   "id": "c7f574e5-0d78-4e7b-98f9-66d7c1be2cfe",
   "metadata": {},
   "outputs": [],
   "source": []
  },
  {
   "cell_type": "code",
   "execution_count": null,
   "id": "6e979ea3-bdb8-4f01-9cb3-d895852cd547",
   "metadata": {},
   "outputs": [],
   "source": []
  },
  {
   "cell_type": "markdown",
   "id": "b0b720ee-4402-41bc-bca5-2ddb8646364f",
   "metadata": {},
   "source": [
    "## Error handling with retry logic\n",
    "\n",
    "We can configure different settings regarding how the API will attempt to recover from failures.\n",
    "\n",
    "Details about different retry settings can be found in this documentation link:\n",
    "https://docs.aws.amazon.com/sdkref/latest/guide/feature-retry-behavior.html"
   ]
  },
  {
   "cell_type": "code",
   "execution_count": 16,
   "id": "32cf7263-3773-491e-9508-1442d903ed61",
   "metadata": {},
   "outputs": [],
   "source": [
    "polly_client = boto3.client(\n",
    "    'polly',\n",
    "    config=boto3.session.Config(\n",
    "        retries={\n",
    "            'max_attempts': 3,\n",
    "            'mode': 'standard'\n",
    "        }\n",
    "    )\n",
    ")"
   ]
  },
  {
   "cell_type": "code",
   "execution_count": null,
   "id": "253ec331-717d-449d-8b5d-fd1cc482f859",
   "metadata": {},
   "outputs": [],
   "source": []
  },
  {
   "cell_type": "code",
   "execution_count": null,
   "id": "de4be8dd-c31b-4fd9-915b-a5a40c964473",
   "metadata": {},
   "outputs": [],
   "source": []
  },
  {
   "cell_type": "code",
   "execution_count": null,
   "id": "f07aed9a-440a-4aa3-90dc-310d2fb915b6",
   "metadata": {},
   "outputs": [],
   "source": []
  },
  {
   "cell_type": "code",
   "execution_count": null,
   "id": "b5f4b59a-447c-4a0a-bc2d-904cd33625f5",
   "metadata": {},
   "outputs": [],
   "source": []
  },
  {
   "cell_type": "code",
   "execution_count": 17,
   "id": "ac53c59f-b994-4795-abc3-4d0d116b3b53",
   "metadata": {},
   "outputs": [],
   "source": [
    "input_text = \"\"\"\n",
    "    Amazon Polly is a cloud service that converts text into lifelike speech. \n",
    "    You can use Amazon Polly to develop applications that increase engagement and accessibility.\n",
    "\"\"\"\n",
    "\n",
    "try:\n",
    "    response = polly_client.synthesize_speech(\n",
    "        Engine='generative',\n",
    "        LanguageCode='en-US',\n",
    "        OutputFormat='mp3',\n",
    "        Text=input_text,\n",
    "        TextType='text',\n",
    "        VoiceId='Joanna'\n",
    "    )\n",
    "except Exception as e:\n",
    "    print(f\"Error synthesizing speech: {e}\")"
   ]
  },
  {
   "cell_type": "code",
   "execution_count": null,
   "id": "a3d9fb6f-aa99-407a-ac4d-a7f4c952f385",
   "metadata": {},
   "outputs": [],
   "source": []
  },
  {
   "cell_type": "code",
   "execution_count": null,
   "id": "97b2ffee-ac39-42b6-a9ca-4cc387f2056d",
   "metadata": {},
   "outputs": [],
   "source": []
  },
  {
   "cell_type": "code",
   "execution_count": null,
   "id": "9e4d0d7c-25dd-4d4d-98be-74fec81ff86f",
   "metadata": {},
   "outputs": [],
   "source": []
  },
  {
   "cell_type": "code",
   "execution_count": null,
   "id": "94bebe7a-c761-41ef-a3c1-bded00c2d12a",
   "metadata": {},
   "outputs": [],
   "source": []
  },
  {
   "cell_type": "code",
   "execution_count": 18,
   "id": "97f46640-776a-4f68-bb1b-0601e537cfbf",
   "metadata": {},
   "outputs": [
    {
     "data": {
      "text/plain": [
       "{'ResponseMetadata': {'RequestId': '39f8ec56-f057-4d88-a370-0ad7218a0fad',\n",
       "  'HTTPStatusCode': 200,\n",
       "  'HTTPHeaders': {'x-amzn-requestid': '39f8ec56-f057-4d88-a370-0ad7218a0fad',\n",
       "   'x-amzn-requestcharacters': '165',\n",
       "   'date': 'Sat, 06 Sep 2025 12:15:56 GMT',\n",
       "   'content-type': 'audio/mpeg',\n",
       "   'transfer-encoding': 'chunked',\n",
       "   'connection': 'keep-alive'},\n",
       "  'RetryAttempts': 0},\n",
       " 'ContentType': 'audio/mpeg',\n",
       " 'RequestCharacters': 165,\n",
       " 'AudioStream': <botocore.response.StreamingBody at 0x1057dc970>}"
      ]
     },
     "execution_count": 18,
     "metadata": {},
     "output_type": "execute_result"
    }
   ],
   "source": [
    "response"
   ]
  },
  {
   "cell_type": "code",
   "execution_count": null,
   "id": "087ee74b-5335-4113-aba9-160eee39813e",
   "metadata": {},
   "outputs": [],
   "source": []
  },
  {
   "cell_type": "code",
   "execution_count": null,
   "id": "7ddf1547-2d92-4ff3-b5f3-e6881c743221",
   "metadata": {},
   "outputs": [],
   "source": []
  },
  {
   "cell_type": "code",
   "execution_count": null,
   "id": "362169e8-5bd8-48cd-947e-9ac801f256fc",
   "metadata": {},
   "outputs": [],
   "source": []
  },
  {
   "cell_type": "code",
   "execution_count": null,
   "id": "a1d0544f-2fac-4348-841c-fc7c9a45ae5a",
   "metadata": {},
   "outputs": [],
   "source": []
  }
 ],
 "metadata": {
  "kernelspec": {
   "display_name": "Python 3 (ipykernel)",
   "language": "python",
   "name": "python3"
  },
  "language_info": {
   "codemirror_mode": {
    "name": "ipython",
    "version": 3
   },
   "file_extension": ".py",
   "mimetype": "text/x-python",
   "name": "python",
   "nbconvert_exporter": "python",
   "pygments_lexer": "ipython3",
   "version": "3.13.7"
  }
 },
 "nbformat": 4,
 "nbformat_minor": 5
}
